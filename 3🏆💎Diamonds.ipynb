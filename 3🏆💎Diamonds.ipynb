{
  "nbformat": 4,
  "nbformat_minor": 0,
  "metadata": {
    "colab": {
      "provenance": []
    },
    "kernelspec": {
      "name": "python3",
      "display_name": "Python 3"
    },
    "language_info": {
      "name": "python"
    }
  },
  "cells": [
    {
      "cell_type": "markdown",
      "source": [
        "<small><font color=gray>Notebook author: <a href=\"https://www.linkedin.com/in/olegmelnikov/\" target=\"_blank\">Oleg Melnikov</a>, ©<a href=\"https://apps.ep.jhu.edu/course-homepages/3765-605-742-deep-neural-networks\" target=\"_blank\">JHU</a> 2021 onwards</font></small><hr style=\"margin:0;background-color:silver\">\n",
        "\n",
        "# **[🏆💎Diamonds](https://www.kaggle.com/competitions/23jan23cml-diamonds)**\n",
        "\n",
        "See [**instructions**](https://colab.research.google.com/drive/1riOGrE_Fv-yfIbM5V4pgJx4DWcd92cZr#scrollTo=ITaPDPIQEgXV) for running and naming your Colab notebooks."
      ],
      "metadata": {
        "id": "q3pqxgX4DxeH"
      }
    },
    {
      "cell_type": "markdown",
      "source": [
        "**(Optioal) CONSENT.** If ok with sharing your Colab for educational purposes, please check the box below with \"X\".\n",
        "\n",
        "<mark>[ . . ]</mark> We consent to sharing our Colab (after the assignment ends) with other students/instructors for educational purpose. We understand that sharing is optional and this decision will not affect our grade in any way. "
      ],
      "metadata": {
        "id": "GOLsFW8RMbgp"
      }
    },
    {
      "cell_type": "code",
      "source": [
        "# from google.colab import drive; drive.mount('/content/drive')   # OK to enable, if your kaggle.json is stored in Google Drive"
      ],
      "metadata": {
        "id": "mPXkUBs6eMHH"
      },
      "execution_count": 1,
      "outputs": []
    },
    {
      "cell_type": "code",
      "execution_count": 2,
      "metadata": {
        "colab": {
          "base_uri": "https://localhost:8080/"
        },
        "id": "d8XoC8VqBXGs",
        "outputId": "44c4ab46-7e54-45a7-f2c6-b6bbfb6656f8"
      },
      "outputs": [
        {
          "output_type": "stream",
          "name": "stdout",
          "text": [
            "- competition is now set to: 23jan23cml-diamonds\n",
            "Using competition: 23jan23cml-diamonds\n",
            " teamId  teamName                      submissionDate       score       \n",
            "-------  ----------------------------  -------------------  ----------  \n",
            "9791778  Unet - лучше для мужчины нет  2023-02-04 13:27:40  591.84951   \n",
            "9808520  6-на мне камни сто карат      2023-02-03 19:07:54  592.66383   \n",
            "9829303  💎 1                           2023-02-05 20:26:42  595.31923   \n",
            "9807796  чепухи                        2023-02-04 19:59:55  615.33789   \n",
            "9820059  (-_-)                         2023-02-02 19:52:37  711.02709   \n",
            "9809181  decate                        2023-02-05 19:57:42  811.57111   \n",
            "9791551  💎Baseline 🐍                   2022-01-25 03:19:41  1066.56542  \n"
          ]
        }
      ],
      "source": [
        "!pip -q install --upgrade --force-reinstall --no-deps kaggle > log  # upgrade kaggle package (to avoid a warning)\n",
        "!mkdir -p ~/.kaggle                                           # .kaggle folder must contain kaggle.json for kaggle executable to properly authenticate you to Kaggle.com\n",
        "!cp /content/drive/MyDrive/kaggle.json ~/.kaggle/kaggle.json >log  # First, download kaggle.json from kaggle.com (in Account page) and place it in the root of mounted Google Drive\n",
        "!cp kaggle.json ~/.kaggle/kaggle.json > log                   # Alternative location of kaggle.json (without a connection to Google Drive)\n",
        "!chmod 600 ~/.kaggle/kaggle.json                              # give only the owner full read/write access to kaggle.json\n",
        "!kaggle config set -n competition -v 23jan23cml-diamonds      # set the competition context for the next few kaggle API calls. !kaggle config view - shows current settings\n",
        "!kaggle competitions download >> log                          # download competition dataset as a zip file\n",
        "!unzip -o *.zip >> log                                        # Kaggle dataset is copied as a single file and needs to be unzipped.\n",
        "!kaggle competitions leaderboard --show                       # print public leaderboard"
      ]
    },
    {
      "cell_type": "code",
      "source": [
        "%%time\n",
        "%%capture\n",
        "%reset -f\n",
        "from IPython.core.interactiveshell import InteractiveShell as IS; IS.ast_node_interactivity = \"all\" \n",
        "import numpy as np, pandas as pd, time, matplotlib.pyplot as plt, seaborn as sns, os, tqdm, re, sys, cv2, skimage\n",
        "ToCSV = lambda df, fname: df.to_csv(f'{fname}.csv', index_label='id') # rounds values to 2 decimals\n",
        "\n",
        "class Timer():\n",
        "  def __init__(self, lim:'RunTimeLimit'=60): self.t0, self.lim, _ = time.time(), lim, print(f'⏳ started. You have {lim} sec. Good luck!')\n",
        "  def ShowTime(self):\n",
        "    msg = f'Runtime is {time.time()-self.t0:.0f} sec'\n",
        "    print(f'\\033[91m\\033[1m' + msg + f' > {self.lim} sec limit!!!\\033[0m' if (time.time()-self.t0-1) > self.lim else msg)\n",
        "\n",
        "np.set_printoptions(linewidth=100, precision=2, edgeitems=2, suppress=True)\n",
        "pd.set_option('max_columns', 20, 'precision', 2, 'display.max_rows', 8)\n",
        "tDIR, sDIR = 'trainXY/', 'testY/'"
      ],
      "metadata": {
        "colab": {
          "base_uri": "https://localhost:8080/"
        },
        "id": "7CyC-JlZFga1",
        "outputId": "8b8ace21-5398-44eb-a428-98e2f8ab2e77"
      },
      "execution_count": 3,
      "outputs": [
        {
          "output_type": "stream",
          "name": "stdout",
          "text": [
            "CPU times: user 1.24 s, sys: 182 ms, total: 1.42 s\n",
            "Wall time: 1.97 s\n"
          ]
        }
      ]
    },
    {
      "cell_type": "code",
      "source": [
        "# df = pd.read_csv('XY_diamonds.csv'); df"
      ],
      "metadata": {
        "id": "X00bQLb5FpxU"
      },
      "execution_count": 4,
      "outputs": []
    },
    {
      "cell_type": "code",
      "source": [
        "# vX = df.query('price!=price').drop('price', axis=1)  # slice a test sample\n",
        "# tXY = df.query('price==price')                       # slice training sample\n",
        "# tX, tY = tXY.drop('price', axis=1), tXY.price        # split into training I/O"
      ],
      "metadata": {
        "id": "f7OuVizOFsFF"
      },
      "execution_count": 5,
      "outputs": []
    },
    {
      "cell_type": "code",
      "source": [
        "# def ScatterCorrHist(df):\n",
        "#   def corrdot(*args, **kwargs):\n",
        "#     # credit: https://stackoverflow.com/questions/48139899\n",
        "#     corr_r = args[0].corr(args[1], 'pearson')\n",
        "#     corr_text = f\"{corr_r:2.2f}\".replace(\"0.\", \".\")\n",
        "#     ax = plt.gca();\n",
        "#     ax.set_axis_off();\n",
        "#     msz = abs(corr_r) * 5000   # marker size\n",
        "#     fsz = abs(corr_r) * 40 + 5 # font size\n",
        "#     ax.scatter([.5], [.5], msz, [corr_r], alpha=0.5, cmap='coolwarm', vmin=-1, vmax=1, transform=ax.transAxes)\n",
        "#     ax.annotate(corr_text, [.5, .5,],  xycoords=\"axes fraction\", ha='center', va='center', fontsize=fsz)\n",
        "\n",
        "#   sns.set(style='white', font_scale=.8);\n",
        "#   g = sns.PairGrid(df, aspect=1, diag_sharey=False);\n",
        "#   g.fig.set_size_inches(20,10)\n",
        "#   g.map_lower(sns.regplot, lowess=True, ci=False, line_kws={'color':'red'}, scatter_kws={'s':1});\n",
        "#   g.map_diag(sns.histplot, kde_kws={'color':'black'});\n",
        "#   g.map_upper(corrdot);\n",
        "#   g.fig.suptitle(\"Scatter plot, Correlations and histograms on diagonal\", y=1);\n",
        "#   _ = plt.subplots_adjust(hspace=0.02, wspace=0.02);\n",
        "#   _ = plt.show();\n",
        "\n",
        "# # ScatterCorrHist(tXY.head(200))"
      ],
      "metadata": {
        "id": "i4gelET6Hb2A"
      },
      "execution_count": 6,
      "outputs": []
    },
    {
      "cell_type": "code",
      "source": [
        "tmr = Timer()"
      ],
      "metadata": {
        "colab": {
          "base_uri": "https://localhost:8080/"
        },
        "id": "z4_C58bbHuja",
        "outputId": "fd7adc65-153f-42ff-b56f-f938960f909d"
      },
      "execution_count": 7,
      "outputs": [
        {
          "output_type": "stream",
          "name": "stdout",
          "text": [
            "⏳ started. You have 60 sec. Good luck!\n"
          ]
        }
      ]
    },
    {
      "cell_type": "markdown",
      "source": [
        "<hr color=red>\n",
        "\n",
        "<font size=5>⏳</font> <strong><font color=orange size=5>Your Code, Documentation, Ideas and Timer - All Start Here...</font></strong>\n",
        "\n",
        "**Student's Section** (between ⏳ symbols): add your code and documentation here."
      ],
      "metadata": {
        "id": "3NcTKbw3KhAn"
      }
    },
    {
      "cell_type": "markdown",
      "metadata": {
        "id": "OpyLNt3god0c"
      },
      "source": [
        "## **Task 1. Preprocessing Pipeline**\n",
        " \n",
        "1. Explain elements of your preprocessing pipeline i.e. feature engineering, subsampling, clustering, dimensionality reduction, etc. \n",
        "1. Why did you choose these elements? (Perhaps something in EDA or prior experience lead you to these)\n",
        "1. How do you evaluate the effectiveness of these elements? \n",
        "1. What else have you tried that worked or didn't? "
      ]
    },
    {
      "cell_type": "markdown",
      "metadata": {
        "id": "30xYIFXAnaPE"
      },
      "source": [
        "**Student's answer:**"
      ]
    },
    {
      "cell_type": "code",
      "source": [
        "import pandas as pd\n",
        "import sklearn\n",
        "import numpy as np\n",
        "import matplotlib.pyplot as plt\n",
        "import seaborn as sns\n",
        "from sklearn.preprocessing import LabelEncoder"
      ],
      "metadata": {
        "id": "hqvcyPz2SSTk"
      },
      "execution_count": 8,
      "outputs": []
    },
    {
      "cell_type": "code",
      "source": [
        "df_copy = pd.read_csv('/content/XY_diamonds.csv')\n",
        "testing = df_copy[df_copy['price'] != df_copy['price']]\n",
        "testing = testing.drop('price', axis=1)\n",
        "df = df_copy.dropna()"
      ],
      "metadata": {
        "id": "4vN1-N5BSS5P"
      },
      "execution_count": 9,
      "outputs": []
    },
    {
      "cell_type": "markdown",
      "source": [
        "В ходе нашей работы мы попробовали различные способы работы с категориальными признаками, такие как: OneHotEncoding, LabelEncoding и TargetEncoding. LabelEncoding бесспорно показал себя лучше всего, поэтому на нём мы и остановились."
      ],
      "metadata": {
        "id": "QncQ8ga2dItZ"
      }
    },
    {
      "cell_type": "code",
      "source": [
        "enc1 = LabelEncoder()\n",
        "enc2 = LabelEncoder()\n",
        "enc3 = LabelEncoder()\n",
        "\n",
        "enc1.fit(df['cut'])\n",
        "enc2.fit(df['color'])\n",
        "enc3.fit(df['clarity'])\n",
        "\n",
        "df['cut'] = enc1.transform(df['cut'])\n",
        "df['color'] = enc2.transform(df['color'])\n",
        "df['clarity'] = enc3.transform(df['clarity'])\n",
        "testing['cut'] = enc1.transform(testing['cut'])\n",
        "testing['color'] = enc2.transform(testing['color'])\n",
        "testing['clarity'] = enc3.transform(testing['clarity'])"
      ],
      "metadata": {
        "colab": {
          "base_uri": "https://localhost:8080/"
        },
        "id": "Ns17jN2GSY2M",
        "outputId": "d8835e7f-5adf-4dc9-bdfc-6ddf78d8234b"
      },
      "execution_count": 10,
      "outputs": [
        {
          "output_type": "execute_result",
          "data": {
            "text/plain": [
              "LabelEncoder()"
            ]
          },
          "metadata": {},
          "execution_count": 10
        },
        {
          "output_type": "execute_result",
          "data": {
            "text/plain": [
              "LabelEncoder()"
            ]
          },
          "metadata": {},
          "execution_count": 10
        },
        {
          "output_type": "execute_result",
          "data": {
            "text/plain": [
              "LabelEncoder()"
            ]
          },
          "metadata": {},
          "execution_count": 10
        },
        {
          "output_type": "stream",
          "name": "stderr",
          "text": [
            "<ipython-input-10-04186982ce2c>:9: SettingWithCopyWarning: \n",
            "A value is trying to be set on a copy of a slice from a DataFrame.\n",
            "Try using .loc[row_indexer,col_indexer] = value instead\n",
            "\n",
            "See the caveats in the documentation: https://pandas.pydata.org/pandas-docs/stable/user_guide/indexing.html#returning-a-view-versus-a-copy\n",
            "  df['cut'] = enc1.transform(df['cut'])\n",
            "<ipython-input-10-04186982ce2c>:10: SettingWithCopyWarning: \n",
            "A value is trying to be set on a copy of a slice from a DataFrame.\n",
            "Try using .loc[row_indexer,col_indexer] = value instead\n",
            "\n",
            "See the caveats in the documentation: https://pandas.pydata.org/pandas-docs/stable/user_guide/indexing.html#returning-a-view-versus-a-copy\n",
            "  df['color'] = enc2.transform(df['color'])\n",
            "<ipython-input-10-04186982ce2c>:11: SettingWithCopyWarning: \n",
            "A value is trying to be set on a copy of a slice from a DataFrame.\n",
            "Try using .loc[row_indexer,col_indexer] = value instead\n",
            "\n",
            "See the caveats in the documentation: https://pandas.pydata.org/pandas-docs/stable/user_guide/indexing.html#returning-a-view-versus-a-copy\n",
            "  df['clarity'] = enc3.transform(df['clarity'])\n"
          ]
        }
      ]
    },
    {
      "cell_type": "markdown",
      "source": [
        "Здесь мы выводим корреляции между фичами. Так можно было заметить сильную корреляцию у одних признаков и слабую корреляцию у других. Однако в виду малого количества фичей мы не удалили никакие признаки."
      ],
      "metadata": {
        "id": "ZN_9Oxl0dffm"
      }
    },
    {
      "cell_type": "code",
      "source": [
        "# plt.figure(figsize=(24,20), dpi= 80)\n",
        "# sns.heatmap(df.corr(), xticklabels=df.corr().columns, yticklabels=df.corr().columns, cmap='RdYlGn', center=0, annot=True)\n",
        "\n",
        "# # Decorations\n",
        "# plt.title('Correlogram', fontsize=22)\n",
        "# plt.xticks(fontsize=12)\n",
        "# plt.yticks(fontsize=12)\n",
        "# plt.show()"
      ],
      "metadata": {
        "id": "sUJBFWUWSmXp"
      },
      "execution_count": 11,
      "outputs": []
    },
    {
      "cell_type": "markdown",
      "source": [
        "Выведем описание нашего DataFrame"
      ],
      "metadata": {
        "id": "ouwPFE-Hd18W"
      }
    },
    {
      "cell_type": "code",
      "source": [
        "# df.describe()"
      ],
      "metadata": {
        "id": "ifDj9QrkSrCK"
      },
      "execution_count": 12,
      "outputs": []
    },
    {
      "cell_type": "markdown",
      "source": [
        "Как мы могли заметить в переменных x,y,z встречаются нули, что однозначно является выбросом, т.к. такого не может быть в реальной жизни."
      ],
      "metadata": {
        "id": "952ifsbud5pV"
      }
    },
    {
      "cell_type": "code",
      "source": [
        "df = df.drop(df[df['x']==0].index)\n",
        "df = df.drop(df[df['y']==0].index)\n",
        "df = df.drop(df[df['z']==0].index)"
      ],
      "metadata": {
        "id": "wKUFtwiCSt6g"
      },
      "execution_count": 13,
      "outputs": []
    },
    {
      "cell_type": "code",
      "source": [
        "# df.describe()"
      ],
      "metadata": {
        "id": "NyQA3fNpS03r"
      },
      "execution_count": 14,
      "outputs": []
    },
    {
      "cell_type": "markdown",
      "source": [
        "Выведем попарные графики переменных, чтобы очистить датасет от выбросов."
      ],
      "metadata": {
        "id": "6UtEY3MyeEOU"
      }
    },
    {
      "cell_type": "code",
      "source": [
        "# sns.pairplot(df[['carat', 'depth', 'table', 'x','y','z','price']], diag_kind='kde')"
      ],
      "metadata": {
        "id": "SOZJM44CSv7f"
      },
      "execution_count": 15,
      "outputs": []
    },
    {
      "cell_type": "code",
      "source": [
        "df = df.drop(df[(df['z'] < 2) & (df['price'] >= 5000)].index)\n",
        "df = df.drop(df[df['z'] > 8].index)\n",
        "df = df.drop(df[df['y'] > 20].index)\n",
        "df = df.drop(df[df['table'] > 90].index)\n",
        "df = df.drop(df[df['table'] < 37].index)\n",
        "df = df.drop(df[df['depth'] < 50].index)\n",
        "df = df.drop(df[df['depth'] > 85].index)\n",
        "df = df.drop(df[df['carat'] > 4].index)"
      ],
      "metadata": {
        "id": "upLx-WiYSx67"
      },
      "execution_count": 16,
      "outputs": []
    },
    {
      "cell_type": "code",
      "source": [
        "# sns.pairplot(df[['carat', 'depth', 'table', 'x','y','z','price']], diag_kind='kde')"
      ],
      "metadata": {
        "id": "n9bDMozPS39m"
      },
      "execution_count": 17,
      "outputs": []
    },
    {
      "cell_type": "code",
      "source": [
        "df = df.drop(df[df['carat'] > 3.4].index)\n",
        "df = df.drop(df[df['depth'] > 80].index)\n",
        "df = df.drop(df[df['depth'] < 57].index)\n",
        "df = df.drop(df[df['table'] > 80].index)\n",
        "df = df.drop(df[df['z'] > 6.2].index)\n",
        "df = df.drop(df[df['x'] > 11].index)\n",
        "df = df.drop(df[(df['y'] < 4.8) & (df['price'] >= 5000)].index)\n",
        "df = df.drop(df[df['y'] > 11].index)"
      ],
      "metadata": {
        "id": "usAJqcP-S6L6"
      },
      "execution_count": 18,
      "outputs": []
    },
    {
      "cell_type": "code",
      "source": [
        "# sns.pairplot(df[['carat', 'depth', 'table', 'x','y','z','price']], diag_kind='kde')"
      ],
      "metadata": {
        "id": "BmjSG5DES8yr"
      },
      "execution_count": 19,
      "outputs": []
    },
    {
      "cell_type": "code",
      "source": [
        "# plt.scatter(df['x'], df['y'])\n",
        "# xx1 = np.array([3, 11])\n",
        "# yy1 = np.array([3+0.5, 11+0.5])\n",
        "# xx2 = np.array([3, 11])\n",
        "# yy2 = np.array([3-0.6, 11-0.6])\n",
        "# plt.plot(xx1, yy1)\n",
        "# plt.plot(xx2, yy2)\n",
        "# plt.show()"
      ],
      "metadata": {
        "id": "Na0hqdh5S-9Z"
      },
      "execution_count": 20,
      "outputs": []
    },
    {
      "cell_type": "code",
      "source": [
        "df = df.drop(df[df['y'] > df['x'] + 0.5].index)\n",
        "df = df.drop(df[df['y'] < df['x'] - 0.61].index)"
      ],
      "metadata": {
        "id": "On2n4NbRY88a"
      },
      "execution_count": 21,
      "outputs": []
    },
    {
      "cell_type": "code",
      "source": [
        "# plt.scatter(df['x'], df['y'])\n",
        "# xx1 = np.array([3, 11])\n",
        "# yy1 = np.array([3+0.5, 11+0.5])\n",
        "# xx2 = np.array([3, 11])\n",
        "# yy2 = np.array([3-0.6, 11-0.6])\n",
        "# plt.plot(xx1, yy1)\n",
        "# plt.plot(xx2, yy2)\n",
        "# plt.show()"
      ],
      "metadata": {
        "id": "fWxMLhIFTBOo"
      },
      "execution_count": 22,
      "outputs": []
    },
    {
      "cell_type": "code",
      "source": [
        "# plt.scatter(df['x'], df['z'])\n",
        "# xx1 = np.array([3, 11])\n",
        "# yy1 = np.array([1.5+0.75, 5.5+2.45])\n",
        "# xx2 = np.array([3, 11])\n",
        "# yy2 = np.array([1.5-0.2, 5.5+0.5])\n",
        "# plt.plot(xx1, yy1, color='yellow')\n",
        "# plt.plot(xx2, yy2, color='red')\n",
        "# plt.show()"
      ],
      "metadata": {
        "id": "vuhT4SNaTDDw"
      },
      "execution_count": 23,
      "outputs": []
    },
    {
      "cell_type": "code",
      "source": [
        "df = df.drop(df[df['z'] > 0.7125 * df['x'] + 0.1125].index)\n",
        "df = df.drop(df[df['z'] < 0.5875 * df['x'] - 0.4625].index)"
      ],
      "metadata": {
        "id": "JOXE7wRwZDMa"
      },
      "execution_count": 24,
      "outputs": []
    },
    {
      "cell_type": "code",
      "source": [
        "# plt.scatter(df['x'], df['z'])\n",
        "# xx1 = np.array([3, 11])\n",
        "# yy1 = np.array([0.7125 * 3 + 0.1125, 0.7125 * 11 + 0.1125])\n",
        "# xx2 = np.array([3, 11])\n",
        "# yy2 = np.array([0.5875 * 3 - 0.4625, 0.5875 * 11 - 0.4625])\n",
        "# plt.plot(xx1, yy1, color='yellow')\n",
        "# plt.plot(xx2, yy2, color='red')\n",
        "# plt.show()"
      ],
      "metadata": {
        "id": "l6TcVwRqTEkn"
      },
      "execution_count": 25,
      "outputs": []
    },
    {
      "cell_type": "code",
      "source": [
        "# plt.scatter(df['y'], df['z'])\n",
        "# xx1 = np.array([3, 11])\n",
        "# yy1 = np.array([1.5+0.75, 5.5+2.45])\n",
        "# xx2 = np.array([3, 11])\n",
        "# yy2 = np.array([1.5-0.2, 5.5+0.5])\n",
        "# plt.plot(xx1, yy1, color='yellow')\n",
        "# plt.plot(xx2, yy2, color='red')\n",
        "# plt.show()"
      ],
      "metadata": {
        "id": "MnB1690tTGO7"
      },
      "execution_count": 26,
      "outputs": []
    },
    {
      "cell_type": "code",
      "source": [
        "# sns.pairplot(df[['carat', 'depth', 'table', 'x','y','z','price']], diag_kind='kde')"
      ],
      "metadata": {
        "id": "Bh6t3eh6TIBV"
      },
      "execution_count": 27,
      "outputs": []
    },
    {
      "cell_type": "markdown",
      "metadata": {
        "id": "KGJRwzqHob4o"
      },
      "source": [
        "## **Task 2. Modeling Approach**\n",
        "Explain your modeling approach, i.e. ideas you tried and why you thought they would be helpful. \n",
        "\n",
        "1. How did these decisions guide you in modeling?\n",
        "1. How do you evaluate the effectiveness of these elements? \n",
        "1. What else have you tried that worked or didn't? "
      ]
    },
    {
      "cell_type": "markdown",
      "metadata": {
        "id": "zi6ZjgtWnb58"
      },
      "source": [
        "**Student's answer:**"
      ]
    },
    {
      "cell_type": "markdown",
      "source": [
        "В ходе нашей работы мы рассматривали различные подходы и пробовали различные модели, такие как разные виды линейной регрессии и KNN. \n",
        "Линейная регрессия без генерации большого количества полиномиальных фичей выдавала плохие результаты. С генерацией фичей результаты были средними. KNN же сразу с default параметрами выдавал хороший скор. Оставалось сделать нескоько дополнительных шагов, подобрать параметры и сделать prediction."
      ],
      "metadata": {
        "id": "ng7lV8L6eNMY"
      }
    },
    {
      "cell_type": "code",
      "source": [
        "from sklearn.neighbors import KNeighborsRegressor\n",
        "from sklearn.model_selection import GridSearchCV"
      ],
      "metadata": {
        "id": "PdvfcYyqTM7O"
      },
      "execution_count": 28,
      "outputs": []
    },
    {
      "cell_type": "markdown",
      "source": [
        "Здесь мы создаем две фичи, которые сильно прибавляют скор - x * y * z и table * depth.\n",
        "Также прибавляем по +2 к лейбл фичам, чтобы избавиться от нулей в признаках и делаем логарифмирование (оно хорошо себя показало на этом датасете, скорее всего из-за распределения цены и других признаков)."
      ],
      "metadata": {
        "id": "zAbKczYReqGd"
      }
    },
    {
      "cell_type": "code",
      "source": [
        "df_y = df['price']\n",
        "df['xyz'] = df['x']*df['y']*df['z']\n",
        "df['t*d'] = df['table'] * df['depth']\n",
        "df_x = df.drop(['price'], axis=1)\n",
        "df_x['cut'] += 2\n",
        "df_x['color'] += 2\n",
        "df_x['clarity'] += 2\n",
        "df_x = np.log(df_x)\n",
        "df_y = np.log(df_y)"
      ],
      "metadata": {
        "id": "9YH6zWJTTRmK"
      },
      "execution_count": 29,
      "outputs": []
    },
    {
      "cell_type": "markdown",
      "source": [
        "Так же скейлим все фичи, чтобы они были в одном диапазоне - так лучше для нашего предиктора. \n",
        "Мы протестировали MinMaxScaler, RobustScaler и StandardScaler. Лучшие результаты показал MinMax."
      ],
      "metadata": {
        "id": "0-I8onSgfGHl"
      }
    },
    {
      "cell_type": "code",
      "source": [
        "from sklearn.preprocessing import StandardScaler, MinMaxScaler\n",
        "sc = MinMaxScaler()\n",
        "df_x = pd.DataFrame(sc.fit_transform(df_x), index=df.index)"
      ],
      "metadata": {
        "id": "HqHjM4EUTVP0"
      },
      "execution_count": 30,
      "outputs": []
    },
    {
      "cell_type": "markdown",
      "source": [
        "Разбиваем выборку на трейн и тест (это нужно было для тестирования и обучения, а так же кроссвалидации и подбора параметров)."
      ],
      "metadata": {
        "id": "w7fgw9NlfV-y"
      }
    },
    {
      "cell_type": "code",
      "source": [
        "from sklearn.model_selection import train_test_split\n",
        "\n",
        "x_train, x_test, y_train, y_test = train_test_split(df_x, df_y, test_size=0.2, random_state=99)"
      ],
      "metadata": {
        "id": "OjrMjHmpTXyk"
      },
      "execution_count": 31,
      "outputs": []
    },
    {
      "cell_type": "code",
      "source": [
        "x_train_copy = x_train.copy()\n",
        "x_test_copy = x_test.copy()"
      ],
      "metadata": {
        "id": "6ESL7HFoTsrh"
      },
      "execution_count": 32,
      "outputs": []
    },
    {
      "cell_type": "markdown",
      "source": [
        "Дальше мы пробовали сокращать признаковое пространство с помощью PCA.\n",
        "Аккуратно поэксперементировав мы сократили признаки до 5 и это сильно улучшило нашу модель."
      ],
      "metadata": {
        "id": "MUrrHLXAfgMe"
      }
    },
    {
      "cell_type": "code",
      "source": [
        "from sklearn.decomposition import PCA\n",
        "pca = PCA(n_components=5)\n",
        "x_train = pca.fit_transform(x_train_copy)\n",
        "x_test = pca.transform(x_test_copy)"
      ],
      "metadata": {
        "id": "98mzxCHjTqBr"
      },
      "execution_count": 33,
      "outputs": []
    },
    {
      "cell_type": "code",
      "source": [
        "df_x = pca.transform(df_x)"
      ],
      "metadata": {
        "id": "R5quJsadTvbR"
      },
      "execution_count": 34,
      "outputs": []
    },
    {
      "cell_type": "markdown",
      "source": [
        "Далее проводим все преобразования с выборкой для сабмита, обучаем модель и делаем предикт."
      ],
      "metadata": {
        "id": "KCBWfec9fyQb"
      }
    },
    {
      "cell_type": "code",
      "source": [
        "testing['x'][testing['x'] == 0] += 0.00000001\n",
        "testing['y'][testing['y'] == 0] += 0.00000001\n",
        "testing['z'][testing['z'] == 0] += 0.00000001"
      ],
      "metadata": {
        "colab": {
          "base_uri": "https://localhost:8080/"
        },
        "id": "l7bSZaqNTbFx",
        "outputId": "7566c5ba-dc2b-41c4-b664-f5a143651734"
      },
      "execution_count": 35,
      "outputs": [
        {
          "output_type": "stream",
          "name": "stderr",
          "text": [
            "<ipython-input-35-acb4f4a39808>:1: SettingWithCopyWarning: \n",
            "A value is trying to be set on a copy of a slice from a DataFrame\n",
            "\n",
            "See the caveats in the documentation: https://pandas.pydata.org/pandas-docs/stable/user_guide/indexing.html#returning-a-view-versus-a-copy\n",
            "  testing['x'][testing['x'] == 0] += 0.00000001\n",
            "<ipython-input-35-acb4f4a39808>:2: SettingWithCopyWarning: \n",
            "A value is trying to be set on a copy of a slice from a DataFrame\n",
            "\n",
            "See the caveats in the documentation: https://pandas.pydata.org/pandas-docs/stable/user_guide/indexing.html#returning-a-view-versus-a-copy\n",
            "  testing['y'][testing['y'] == 0] += 0.00000001\n",
            "<ipython-input-35-acb4f4a39808>:3: SettingWithCopyWarning: \n",
            "A value is trying to be set on a copy of a slice from a DataFrame\n",
            "\n",
            "See the caveats in the documentation: https://pandas.pydata.org/pandas-docs/stable/user_guide/indexing.html#returning-a-view-versus-a-copy\n",
            "  testing['z'][testing['z'] == 0] += 0.00000001\n"
          ]
        }
      ]
    },
    {
      "cell_type": "code",
      "source": [
        "testing['xyz'] = testing['x']*testing['y']*testing['z']\n",
        "testing['t*d'] = testing['table'] * testing['depth']\n",
        "testing['cut'] += 2\n",
        "testing['color'] += 2\n",
        "testing['clarity'] += 2\n",
        "testing = np.log(testing)"
      ],
      "metadata": {
        "id": "mxnmhNuJTfHq"
      },
      "execution_count": 36,
      "outputs": []
    },
    {
      "cell_type": "code",
      "source": [
        "testing = sc.transform(testing)"
      ],
      "metadata": {
        "id": "molV3SynTkzR"
      },
      "execution_count": 37,
      "outputs": []
    },
    {
      "cell_type": "code",
      "source": [
        "testing = pca.transform(testing)"
      ],
      "metadata": {
        "id": "D7KwemdBTm3r"
      },
      "execution_count": 38,
      "outputs": []
    },
    {
      "cell_type": "code",
      "source": [
        "clf2_knn = KNeighborsRegressor(algorithm='kd_tree', weights='distance', p=2, leaf_size=5, n_neighbors=9)\n",
        "clf2_knn.fit(df_x , df_y)"
      ],
      "metadata": {
        "colab": {
          "base_uri": "https://localhost:8080/"
        },
        "id": "HEBiCfMvT2xL",
        "outputId": "5aacc917-405a-4954-8e44-76dfb548dfc9"
      },
      "execution_count": 39,
      "outputs": [
        {
          "output_type": "execute_result",
          "data": {
            "text/plain": [
              "KNeighborsRegressor(algorithm='kd_tree', leaf_size=5, n_neighbors=9,\n",
              "                    weights='distance')"
            ]
          },
          "metadata": {},
          "execution_count": 39
        }
      ]
    },
    {
      "cell_type": "code",
      "source": [
        "submit_final = pd.DataFrame(np.exp(clf2_knn.predict(testing)), columns=['price'])\n",
        "submit_final.index += 1\n",
        "ToCSV(submit_final, 'exp_pca_final_sub_1')"
      ],
      "metadata": {
        "id": "tEAXMVnBUDK_"
      },
      "execution_count": 40,
      "outputs": []
    },
    {
      "cell_type": "markdown",
      "source": [
        "<font size=5>⌛</font> <strong><font color=orange size=5>Do not exceed competition's runtime limit!</font></strong>\n",
        "\n",
        "<hr color=red>\n"
      ],
      "metadata": {
        "id": "DoF2GoB_QGw9"
      }
    },
    {
      "cell_type": "code",
      "source": [
        "tmr.ShowTime()    # measure Colab's runtime. Do not remove. Keep as the last cell in your notebook."
      ],
      "metadata": {
        "colab": {
          "base_uri": "https://localhost:8080/"
        },
        "id": "bD1sdgYbNWQA",
        "outputId": "63085b71-83f2-4ec1-9b3f-665ff7d64055"
      },
      "execution_count": 41,
      "outputs": [
        {
          "output_type": "stream",
          "name": "stdout",
          "text": [
            "Runtime is 5 sec\n"
          ]
        }
      ]
    },
    {
      "cell_type": "markdown",
      "source": [
        "# **References:**"
      ],
      "metadata": {
        "id": "pzBsjCvS_kEw"
      }
    },
    {
      "cell_type": "markdown",
      "source": [
        "1. Remember to cite your sources here as well! At the least, your textbook should be cited. Google Scholar allows you to effortlessly copy/paste an APA citation format for books and publications. Also cite StackOverflow, package documentation, and other meaningful internet resources to help your peers learn from these (and to avoid plagiarism claims)."
      ],
      "metadata": {
        "id": "2kr8Q-9T_nAb"
      }
    },
    {
      "cell_type": "markdown",
      "metadata": {
        "id": "oUStTaN4uo_Z"
      },
      "source": [
        "## 💡**Starter Ideas**"
      ]
    },
    {
      "cell_type": "markdown",
      "source": [
        "1. Tune model hyperparameters\n",
        "1. Try to linear and non-linear feature normalization: shift/scale, log, divide features by features (investigate scatterplot matrix)\n",
        "1. Try 3rd order feature interactions and polynomial features on a small subsample. Then identify key features or select key principal components. The final model can be trained on a larger or even full training sample. You can use [PCA](https://scikit-learn.org/stable/modules/generated/sklearn.decomposition.PCA.html) to reduce the feature set\n",
        "1. Do a thorough EDA and understand non-linear relation in I/O. Are any interactions more special than others (E.g. is diamond *volume* a better predictor?)\n",
        "1. If you note a shift in trend for any predictors, try building a model for each trend.\n",
        "1. Evaluate predictions and focus on poorly predicted \"groups\". Can they be identified and modeled separately?\n",
        "1. Do scatter plots show piecewise linear shape? Can a separate linear model be used on each support of approximately linear X-Y relation?\n",
        "1. How are categorical features treated by the SKLearn models? Is there a [better way](https://www.google.com/search?q=ways+to+encode+categorical+data) to encode these (perhaps, ordinal) features? \n",
        "  1. E.g. you could replace codes (or groups of codes) with their frequencies, which may capture the implied \"distance\" or rarity between category levels.\n",
        "  1. If encoding ordinal features with integers, should non-equidistant values be considered?\n",
        "1. Learn about [modeling price of a diamond](https://www.google.com/search?q=machine+learning+model+price+diamond).\n",
        "1. Try post-processing: shifting/scaling/transforming the distribution of predicted prices `pY` to match the distribution of training prices `tY`\n"
      ],
      "metadata": {
        "id": "q4QO-u3t8xAO"
      }
    },
    {
      "cell_type": "code",
      "source": [],
      "metadata": {
        "id": "tLlIseR-EcrE"
      },
      "execution_count": 41,
      "outputs": []
    }
  ]
}